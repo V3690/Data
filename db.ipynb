{
 "cells": [
  {
   "cell_type": "code",
   "execution_count": null,
   "metadata": {},
   "outputs": [],
   "source": [
    "# SELECT * FROM jieun_db.recipeIngredient; \n",
    "# recipeId, ingredientId\n",
    "# recipeId 가 1부터 시작해야하는데 0부터 시작했기 때문에 1을 더해주는 sql문을 작성해야함\n",
    "# SELECT * FROM jieun_db.recipeIngredient WHERE recipeId = 1;\n",
    "# SELECT * FROM jieun_db.recipeIngredient WHERE recipeId = 2;\n",
    "# SELECT * FROM jieun_db.recipeIngredient WHERE recipeId = 3;\n",
    "# SELECT * FROM jieun_db.recipeIngredient WHERE recipeId = 4;\n",
    "UPDATE from jieun_db.recipeIngredient SET recipeId = recipeId + 1;"
   ]
  },
  {
   "cell_type": "code",
   "execution_count": null,
   "metadata": {},
   "outputs": [],
   "source": [
    "ALTER TABLE `recipe` AUTO_INCREMENT=2; # 1부터 시작하게 함\n",
    "SET @COUNT = 0; # 0부터 시작하게 함 \n",
    "UPDATE `recipe` SET id = @COUNT:=@COUNT+1; # 1씩 증가하게 함"
   ]
  },
  {
   "cell_type": "code",
   "execution_count": null,
   "metadata": {},
   "outputs": [],
   "source": []
  }
 ],
 "metadata": {
  "kernelspec": {
   "display_name": "lambda39",
   "language": "python",
   "name": "python3"
  },
  "language_info": {
   "name": "python",
   "version": "3.9.15"
  },
  "orig_nbformat": 4
 },
 "nbformat": 4,
 "nbformat_minor": 2
}
