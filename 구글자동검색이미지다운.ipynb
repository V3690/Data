{
 "cells": [
  {
   "cell_type": "code",
   "execution_count": null,
   "metadata": {},
   "outputs": [],
   "source": [
    "import requests\n",
    "from bs4 import BeautifulSoup\n",
    "from selenium import webdriver\n",
    "from selenium.webdriver.common.keys import Keys\n",
    "import time\n",
    "import pandas as pd\n",
    "import numpy as np\n",
    "import csv\n",
    "import os\n",
    "from selenium.webdriver.common.by import By\n",
    "from selenium.webdriver.support.ui import WebDriverWait\n",
    "from selenium.webdriver.support import expected_conditions as EC\n",
    "from selenium.webdriver.common.action_chains import ActionChains\n",
    "from selenium.webdriver.support.ui import Select\n",
    "from selenium.webdriver.common.alert import Alert # 경고창\n",
    "from selenium.webdriver.chrome.options import Options # 크롬 드라이버 자동 설치\n",
    "from selenium.webdriver.chrome.service import Service # 크롬 드라이버 자동 설치\n",
    "from webdriver_manager.chrome import ChromeDriverManager # 크롬 드라이버 자동 설치 \n"
   ]
  },
  {
   "cell_type": "code",
   "execution_count": 4,
   "metadata": {},
   "outputs": [],
   "source": [
    "# 구글 드라이버를 사용하기 위한 설정\n",
    "options = webdriver.ChromeOptions() # 크롬 옵션 객체 생성\n",
    "# options.add_argument(\"headless\") # 창 숨기기\n",
    "options.add_argument('window-size=1920x1080') # 창 크기 설정\n",
    "options.add_argument(\"disable-gpu\") # GPU 사용 안함\n",
    "options.add_argument(\"lang=ko_KR\") # 언어 설정"
   ]
  },
  {
   "cell_type": "code",
   "execution_count": 6,
   "metadata": {},
   "outputs": [],
   "source": [
    "driver = webdriver.Chrome(service=Service(ChromeDriverManager().install()), options=options) # 크롬 드라이버 객체 생성\n",
    "\n",
    "keyword = input('검색어를 입력하면 이미지를 저장합니다: ')\n",
    "\n",
    "# 구글 검색창에 내가입력한 keyword 검색한다.\n",
    "driver.get('https://www.google.com/')\n",
    "driver.find_element(By.NAME, 'q').send_keys(keyword)\n",
    "driver.find_element(By.NAME, 'q').send_keys(Keys.ENTER)\n",
    "\n",
    "# 사진 검색\n",
    "driver.find_element(By.LINK_TEXT, '이미지').click() # link_text는 링크 텍스트를 찾는다. \n",
    "\n",
    "# # 1번째 이미지 클릭\n",
    "# driver.find_element(By.CSS_SELECTOR, 'img.rg_i.Q4LuWd').click() # css_selector는 css 선택자를 찾는다.\n",
    "\n",
    "# 1번째 이미지의 링크 주소를 가져온다.\n",
    "img = driver.find_element(By.CSS_SELECTOR, 'img.rg_i.Q4LuWd')\n",
    "img_src = img.get_attribute('src')\n",
    "\n",
    "# base64로 인코딩된 주소가 img_src에 저장되어 있다.\n",
    "# 디코딩을 한다\n",
    "import base64\n",
    "img_data = base64.b64decode(img_src.split(',')[1])  # split(',')[1]은 base64로 인코딩된 이미지만 가져온다. \n",
    "\n",
    "# myimages폴더가 없으면 생성한다.\n",
    "if not os.path.exists('myimages'): # os.path.exists는 폴더가 있는지 확인한다.\n",
    "    os.makedirs('myimages') # os.makedirs는 폴더를 생성한다.\n",
    "\n",
    "# 디코딩된 이미지를 저장한다.\n",
    "with open(f'myimages/{keyword}.png', 'wb') as f: # wb는 write binary\n",
    "    f.write(img_data)\n",
    "\n"
   ]
  },
  {
   "cell_type": "code",
   "execution_count": null,
   "metadata": {},
   "outputs": [],
   "source": []
  },
  {
   "cell_type": "code",
   "execution_count": null,
   "metadata": {},
   "outputs": [],
   "source": []
  }
 ],
 "metadata": {
  "kernelspec": {
   "display_name": "lambda39",
   "language": "python",
   "name": "python3"
  },
  "language_info": {
   "codemirror_mode": {
    "name": "ipython",
    "version": 3
   },
   "file_extension": ".py",
   "mimetype": "text/x-python",
   "name": "python",
   "nbconvert_exporter": "python",
   "pygments_lexer": "ipython3",
   "version": "3.9.15"
  },
  "orig_nbformat": 4,
  "vscode": {
   "interpreter": {
    "hash": "b1b9a9978f762d2566ea189cb34a2612d5bafe34c6f2c2f13edb8182c4d6297b"
   }
  }
 },
 "nbformat": 4,
 "nbformat_minor": 2
}
