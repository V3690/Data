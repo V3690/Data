{
 "cells": [
  {
   "cell_type": "code",
   "execution_count": 1,
   "metadata": {},
   "outputs": [],
   "source": [
    "import pymysql\n",
    "import pandas as pd\n",
    "import numpy as np\n",
    "import matplotlib.pyplot as plt\n",
    "import seaborn as sns\n",
    "import warnings\n",
    "# boto3를 이용하여 s3에 접근\n",
    "import boto3\n",
    "import io\n",
    "import os\n",
    "import sys\n",
    "import json\n",
    "import time\n"
   ]
  },
  {
   "cell_type": "code",
   "execution_count": 22,
   "metadata": {},
   "outputs": [
    {
     "ename": "ModuleNotFoundError",
     "evalue": "No module named 'Data'",
     "output_type": "error",
     "traceback": [
      "\u001b[1;31m---------------------------------------------------------------------------\u001b[0m",
      "\u001b[1;31mModuleNotFoundError\u001b[0m                       Traceback (most recent call last)",
      "Cell \u001b[1;32mIn[22], line 1\u001b[0m\n\u001b[1;32m----> 1\u001b[0m \u001b[39mimport\u001b[39;00m \u001b[39mData\u001b[39;00m\u001b[39m.\u001b[39;00m\u001b[39mconfig\u001b[39;00m \u001b[39mas\u001b[39;00m \u001b[39mConfig\u001b[39;00m\n",
      "\u001b[1;31mModuleNotFoundError\u001b[0m: No module named 'Data'"
     ]
    }
   ],
   "source": [
    "import Data.config as Config"
   ]
  },
  {
   "cell_type": "code",
   "execution_count": 6,
   "metadata": {},
   "outputs": [
    {
     "ename": "AttributeError",
     "evalue": "module 'config' has no attribute 'HOST'",
     "output_type": "error",
     "traceback": [
      "\u001b[1;31m---------------------------------------------------------------------------\u001b[0m",
      "\u001b[1;31mAttributeError\u001b[0m                            Traceback (most recent call last)",
      "Cell \u001b[1;32mIn[6], line 2\u001b[0m\n\u001b[0;32m      1\u001b[0m \u001b[39m# db 연결\u001b[39;00m\n\u001b[1;32m----> 2\u001b[0m conn \u001b[39m=\u001b[39m pymysql\u001b[39m.\u001b[39mconnect(host\u001b[39m=\u001b[39mConfig\u001b[39m.\u001b[39;49mHOST, user\u001b[39m=\u001b[39mConfig\u001b[39m.\u001b[39mDB_USER, password\u001b[39m=\u001b[39mConfig\u001b[39m.\u001b[39mDB_PASSWORD, db\u001b[39m=\u001b[39mConfig\u001b[39m.\u001b[39mDATABASE, charset\u001b[39m=\u001b[39m\u001b[39m'\u001b[39m\u001b[39mutf8\u001b[39m\u001b[39m'\u001b[39m)\n\u001b[0;32m      4\u001b[0m \u001b[39m# Connection 으로부터 Cursor 생성\u001b[39;00m\n\u001b[0;32m      5\u001b[0m curs \u001b[39m=\u001b[39m conn\u001b[39m.\u001b[39mcursor()\n",
      "\u001b[1;31mAttributeError\u001b[0m: module 'config' has no attribute 'HOST'"
     ]
    }
   ],
   "source": [
    "\n",
    "# db 연결\n",
    "conn = pymysql.connect(host=Config.HOST, user=Config.DB_USER, password=Config.DB_PASSWORD, db=Config.DATABASE, charset='utf8')\n",
    "\n",
    "# Connection 으로부터 Cursor 생성\n",
    "curs = conn.cursor()\n",
    "\n",
    "# SQL문 실행 name, imgUrl\n",
    "sql = \"selcet * from alcohol\"\n",
    "curs.execute(sql)\n",
    "\n",
    "conn.commit()\n",
    "conn.close()\n",
    "curs.close()"
   ]
  },
  {
   "cell_type": "code",
   "execution_count": 3,
   "metadata": {},
   "outputs": [
    {
     "ename": "NameError",
     "evalue": "name 'Config' is not defined",
     "output_type": "error",
     "traceback": [
      "\u001b[1;31m---------------------------------------------------------------------------\u001b[0m",
      "\u001b[1;31mNameError\u001b[0m                                 Traceback (most recent call last)",
      "Cell \u001b[1;32mIn[3], line 1\u001b[0m\n\u001b[1;32m----> 1\u001b[0m \u001b[39mprint\u001b[39m(\u001b[39mdir\u001b[39m(Config))\n",
      "\u001b[1;31mNameError\u001b[0m: name 'Config' is not defined"
     ]
    }
   ],
   "source": [
    "print(dir(Config))"
   ]
  },
  {
   "cell_type": "code",
   "execution_count": 2,
   "metadata": {},
   "outputs": [
    {
     "data": {
      "text/plain": [
       "'c:\\\\Users\\\\5-10\\\\Documents\\\\Github\\\\Data'"
      ]
     },
     "execution_count": 2,
     "metadata": {},
     "output_type": "execute_result"
    }
   ],
   "source": [
    "pwd"
   ]
  },
  {
   "cell_type": "code",
   "execution_count": null,
   "metadata": {},
   "outputs": [],
   "source": [
    "df = pd.read_csv('')"
   ]
  },
  {
   "cell_type": "code",
   "execution_count": 1,
   "metadata": {},
   "outputs": [
    {
     "name": "stdout",
     "output_type": "stream",
     "text": [
      "Collecting jupyter-resource-usage\n",
      "  Downloading jupyter_resource_usage-0.7.2-py3-none-any.whl (38 kB)\n",
      "Requirement already satisfied: pyzmq>=19 in c:\\users\\5-10\\anaconda3\\envs\\lambda39\\lib\\site-packages (from jupyter-resource-usage) (23.2.0)\n",
      "Requirement already satisfied: prometheus-client in c:\\users\\5-10\\anaconda3\\envs\\lambda39\\lib\\site-packages (from jupyter-resource-usage) (0.14.1)\n",
      "Requirement already satisfied: psutil~=5.6 in c:\\users\\5-10\\anaconda3\\envs\\lambda39\\lib\\site-packages (from jupyter-resource-usage) (5.9.0)\n",
      "Requirement already satisfied: jupyter-server>=1.0 in c:\\users\\5-10\\anaconda3\\envs\\lambda39\\lib\\site-packages (from jupyter-resource-usage) (1.23.4)\n",
      "Requirement already satisfied: argon2-cffi in c:\\users\\5-10\\anaconda3\\envs\\lambda39\\lib\\site-packages (from jupyter-server>=1.0->jupyter-resource-usage) (21.3.0)\n",
      "Requirement already satisfied: jupyter-core>=4.7.0 in c:\\users\\5-10\\anaconda3\\envs\\lambda39\\lib\\site-packages (from jupyter-server>=1.0->jupyter-resource-usage) (5.1.1)\n",
      "Requirement already satisfied: packaging in c:\\users\\5-10\\anaconda3\\envs\\lambda39\\lib\\site-packages (from jupyter-server>=1.0->jupyter-resource-usage) (22.0)\n",
      "Requirement already satisfied: jinja2 in c:\\users\\5-10\\anaconda3\\envs\\lambda39\\lib\\site-packages (from jupyter-server>=1.0->jupyter-resource-usage) (3.1.2)\n",
      "Requirement already satisfied: jupyter-client>=6.1.12 in c:\\users\\5-10\\anaconda3\\envs\\lambda39\\lib\\site-packages (from jupyter-server>=1.0->jupyter-resource-usage) (7.4.8)\n",
      "Requirement already satisfied: traitlets>=5.1 in c:\\users\\5-10\\anaconda3\\envs\\lambda39\\lib\\site-packages (from jupyter-server>=1.0->jupyter-resource-usage) (5.7.1)\n",
      "Requirement already satisfied: pywinpty in c:\\users\\5-10\\anaconda3\\envs\\lambda39\\lib\\site-packages (from jupyter-server>=1.0->jupyter-resource-usage) (2.0.2)\n",
      "Requirement already satisfied: nbformat>=5.2.0 in c:\\users\\5-10\\anaconda3\\envs\\lambda39\\lib\\site-packages (from jupyter-server>=1.0->jupyter-resource-usage) (5.7.0)\n",
      "Requirement already satisfied: nbconvert>=6.4.4 in c:\\users\\5-10\\anaconda3\\envs\\lambda39\\lib\\site-packages (from jupyter-server>=1.0->jupyter-resource-usage) (6.5.4)\n",
      "Requirement already satisfied: terminado>=0.8.3 in c:\\users\\5-10\\anaconda3\\envs\\lambda39\\lib\\site-packages (from jupyter-server>=1.0->jupyter-resource-usage) (0.17.1)\n",
      "Requirement already satisfied: tornado>=6.1.0 in c:\\users\\5-10\\anaconda3\\envs\\lambda39\\lib\\site-packages (from jupyter-server>=1.0->jupyter-resource-usage) (6.2)\n",
      "Requirement already satisfied: websocket-client in c:\\users\\5-10\\anaconda3\\envs\\lambda39\\lib\\site-packages (from jupyter-server>=1.0->jupyter-resource-usage) (0.58.0)\n",
      "Requirement already satisfied: anyio<4,>=3.1.0 in c:\\users\\5-10\\anaconda3\\envs\\lambda39\\lib\\site-packages (from jupyter-server>=1.0->jupyter-resource-usage) (3.5.0)\n",
      "Requirement already satisfied: Send2Trash in c:\\users\\5-10\\anaconda3\\envs\\lambda39\\lib\\site-packages (from jupyter-server>=1.0->jupyter-resource-usage) (1.8.0)\n",
      "Requirement already satisfied: sniffio>=1.1 in c:\\users\\5-10\\anaconda3\\envs\\lambda39\\lib\\site-packages (from anyio<4,>=3.1.0->jupyter-server>=1.0->jupyter-resource-usage) (1.2.0)\n",
      "Requirement already satisfied: idna>=2.8 in c:\\users\\5-10\\anaconda3\\envs\\lambda39\\lib\\site-packages (from anyio<4,>=3.1.0->jupyter-server>=1.0->jupyter-resource-usage) (3.4)\n",
      "Requirement already satisfied: nest-asyncio>=1.5.4 in c:\\users\\5-10\\anaconda3\\envs\\lambda39\\lib\\site-packages (from jupyter-client>=6.1.12->jupyter-server>=1.0->jupyter-resource-usage) (1.5.6)\n",
      "Requirement already satisfied: entrypoints in c:\\users\\5-10\\anaconda3\\envs\\lambda39\\lib\\site-packages (from jupyter-client>=6.1.12->jupyter-server>=1.0->jupyter-resource-usage) (0.4)\n",
      "Requirement already satisfied: python-dateutil>=2.8.2 in c:\\users\\5-10\\anaconda3\\envs\\lambda39\\lib\\site-packages (from jupyter-client>=6.1.12->jupyter-server>=1.0->jupyter-resource-usage) (2.8.2)\n",
      "Requirement already satisfied: pywin32>=1.0 in c:\\users\\5-10\\anaconda3\\envs\\lambda39\\lib\\site-packages (from jupyter-core>=4.7.0->jupyter-server>=1.0->jupyter-resource-usage) (305.1)\n",
      "Requirement already satisfied: platformdirs>=2.5 in c:\\users\\5-10\\anaconda3\\envs\\lambda39\\lib\\site-packages (from jupyter-core>=4.7.0->jupyter-server>=1.0->jupyter-resource-usage) (2.5.2)\n",
      "Requirement already satisfied: pandocfilters>=1.4.1 in c:\\users\\5-10\\anaconda3\\envs\\lambda39\\lib\\site-packages (from nbconvert>=6.4.4->jupyter-server>=1.0->jupyter-resource-usage) (1.5.0)\n",
      "Requirement already satisfied: jupyterlab-pygments in c:\\users\\5-10\\anaconda3\\envs\\lambda39\\lib\\site-packages (from nbconvert>=6.4.4->jupyter-server>=1.0->jupyter-resource-usage) (0.1.2)\n",
      "Requirement already satisfied: tinycss2 in c:\\users\\5-10\\anaconda3\\envs\\lambda39\\lib\\site-packages (from nbconvert>=6.4.4->jupyter-server>=1.0->jupyter-resource-usage) (1.2.1)\n",
      "Requirement already satisfied: pygments>=2.4.1 in c:\\users\\5-10\\anaconda3\\envs\\lambda39\\lib\\site-packages (from nbconvert>=6.4.4->jupyter-server>=1.0->jupyter-resource-usage) (2.11.2)\n",
      "Requirement already satisfied: bleach in c:\\users\\5-10\\anaconda3\\envs\\lambda39\\lib\\site-packages (from nbconvert>=6.4.4->jupyter-server>=1.0->jupyter-resource-usage) (4.1.0)\n",
      "Requirement already satisfied: beautifulsoup4 in c:\\users\\5-10\\anaconda3\\envs\\lambda39\\lib\\site-packages (from nbconvert>=6.4.4->jupyter-server>=1.0->jupyter-resource-usage) (4.11.1)\n",
      "Requirement already satisfied: nbclient>=0.5.0 in c:\\users\\5-10\\anaconda3\\envs\\lambda39\\lib\\site-packages (from nbconvert>=6.4.4->jupyter-server>=1.0->jupyter-resource-usage) (0.5.13)\n",
      "Requirement already satisfied: mistune<2,>=0.8.1 in c:\\users\\5-10\\anaconda3\\envs\\lambda39\\lib\\site-packages (from nbconvert>=6.4.4->jupyter-server>=1.0->jupyter-resource-usage) (0.8.4)\n",
      "Requirement already satisfied: defusedxml in c:\\users\\5-10\\anaconda3\\envs\\lambda39\\lib\\site-packages (from nbconvert>=6.4.4->jupyter-server>=1.0->jupyter-resource-usage) (0.7.1)\n",
      "Requirement already satisfied: lxml in c:\\users\\5-10\\anaconda3\\envs\\lambda39\\lib\\site-packages (from nbconvert>=6.4.4->jupyter-server>=1.0->jupyter-resource-usage) (4.9.1)\n",
      "Requirement already satisfied: MarkupSafe>=2.0 in c:\\users\\5-10\\anaconda3\\envs\\lambda39\\lib\\site-packages (from nbconvert>=6.4.4->jupyter-server>=1.0->jupyter-resource-usage) (2.1.1)\n",
      "Requirement already satisfied: fastjsonschema in c:\\users\\5-10\\anaconda3\\envs\\lambda39\\lib\\site-packages (from nbformat>=5.2.0->jupyter-server>=1.0->jupyter-resource-usage) (2.16.2)\n",
      "Requirement already satisfied: jsonschema>=2.6 in c:\\users\\5-10\\anaconda3\\envs\\lambda39\\lib\\site-packages (from nbformat>=5.2.0->jupyter-server>=1.0->jupyter-resource-usage) (4.16.0)\n",
      "Requirement already satisfied: argon2-cffi-bindings in c:\\users\\5-10\\anaconda3\\envs\\lambda39\\lib\\site-packages (from argon2-cffi->jupyter-server>=1.0->jupyter-resource-usage) (21.2.0)\n",
      "Requirement already satisfied: six in c:\\users\\5-10\\anaconda3\\envs\\lambda39\\lib\\site-packages (from websocket-client->jupyter-server>=1.0->jupyter-resource-usage) (1.16.0)\n",
      "Requirement already satisfied: attrs>=17.4.0 in c:\\users\\5-10\\anaconda3\\envs\\lambda39\\lib\\site-packages (from jsonschema>=2.6->nbformat>=5.2.0->jupyter-server>=1.0->jupyter-resource-usage) (22.1.0)\n",
      "Requirement already satisfied: pyrsistent!=0.17.0,!=0.17.1,!=0.17.2,>=0.14.0 in c:\\users\\5-10\\anaconda3\\envs\\lambda39\\lib\\site-packages (from jsonschema>=2.6->nbformat>=5.2.0->jupyter-server>=1.0->jupyter-resource-usage) (0.18.0)\n",
      "Requirement already satisfied: cffi>=1.0.1 in c:\\users\\5-10\\anaconda3\\envs\\lambda39\\lib\\site-packages (from argon2-cffi-bindings->argon2-cffi->jupyter-server>=1.0->jupyter-resource-usage) (1.15.1)\n",
      "Requirement already satisfied: soupsieve>1.2 in c:\\users\\5-10\\anaconda3\\envs\\lambda39\\lib\\site-packages (from beautifulsoup4->nbconvert>=6.4.4->jupyter-server>=1.0->jupyter-resource-usage) (2.3.2.post1)\n",
      "Requirement already satisfied: webencodings in c:\\users\\5-10\\anaconda3\\envs\\lambda39\\lib\\site-packages (from bleach->nbconvert>=6.4.4->jupyter-server>=1.0->jupyter-resource-usage) (0.5.1)\n",
      "Requirement already satisfied: pycparser in c:\\users\\5-10\\anaconda3\\envs\\lambda39\\lib\\site-packages (from cffi>=1.0.1->argon2-cffi-bindings->argon2-cffi->jupyter-server>=1.0->jupyter-resource-usage) (2.21)\n",
      "Installing collected packages: jupyter-resource-usage\n",
      "Successfully installed jupyter-resource-usage-0.7.2\n"
     ]
    }
   ],
   "source": []
  },
  {
   "cell_type": "code",
   "execution_count": null,
   "metadata": {},
   "outputs": [],
   "source": []
  }
 ],
 "metadata": {
  "kernelspec": {
   "display_name": "lambda39",
   "language": "python",
   "name": "python3"
  },
  "language_info": {
   "codemirror_mode": {
    "name": "ipython",
    "version": 3
   },
   "file_extension": ".py",
   "mimetype": "text/x-python",
   "name": "python",
   "nbconvert_exporter": "python",
   "pygments_lexer": "ipython3",
   "version": "3.9.15"
  },
  "orig_nbformat": 4
 },
 "nbformat": 4,
 "nbformat_minor": 2
}
